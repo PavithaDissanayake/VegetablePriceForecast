{
 "cells": [
  {
   "cell_type": "code",
   "execution_count": 1,
   "metadata": {},
   "outputs": [
    {
     "name": "stderr",
     "output_type": "stream",
     "text": [
      "c:\\Python312\\Lib\\site-packages\\tqdm\\auto.py:21: TqdmWarning: IProgress not found. Please update jupyter and ipywidgets. See https://ipywidgets.readthedocs.io/en/stable/user_install.html\n",
      "  from .autonotebook import tqdm as notebook_tqdm\n"
     ]
    }
   ],
   "source": [
    "import pandas as pd\n",
    "from transformers import TapasTokenizer, TapasForQuestionAnswering"
   ]
  },
  {
   "cell_type": "code",
   "execution_count": 2,
   "metadata": {},
   "outputs": [
    {
     "name": "stderr",
     "output_type": "stream",
     "text": [
      "c:\\Python312\\Lib\\site-packages\\huggingface_hub\\file_download.py:147: UserWarning: `huggingface_hub` cache-system uses symlinks by default to efficiently store duplicated files but your machine does not support them in C:\\Users\\HP\\.cache\\huggingface\\hub\\models--google--tapas-large-finetuned-wtq. Caching files will still work but in a degraded version that might require more space on your disk. This warning can be disabled by setting the `HF_HUB_DISABLE_SYMLINKS_WARNING` environment variable. For more details, see https://huggingface.co/docs/huggingface_hub/how-to-cache#limitations.\n",
      "To support symlinks on Windows, you either need to activate Developer Mode or to run Python as an administrator. In order to activate developer mode, see this article: https://docs.microsoft.com/en-us/windows/apps/get-started/enable-your-device-for-development\n",
      "  warnings.warn(message)\n"
     ]
    }
   ],
   "source": [
    "tokenizer = TapasTokenizer.from_pretrained(\"google/tapas-large-finetuned-wtq\")\n",
    "model = TapasForQuestionAnswering.from_pretrained(\"google/tapas-large-finetuned-wtq\")"
   ]
  },
  {
   "cell_type": "code",
   "execution_count": 3,
   "metadata": {},
   "outputs": [],
   "source": [
    "# Example table in Pandas DataFrame\n",
    "data = {\n",
    "    \"Year\": [\"2018\", \"2019\", \"2020\", \"2021\"],\n",
    "    \"Sales\": [\"1000\", \"1500\", \"2000\", \"2500\"]\n",
    "}\n",
    "table = pd.DataFrame.from_dict(data)"
   ]
  },
  {
   "cell_type": "code",
   "execution_count": 4,
   "metadata": {},
   "outputs": [
    {
     "name": "stderr",
     "output_type": "stream",
     "text": [
      "c:\\Python312\\Lib\\site-packages\\transformers\\models\\tapas\\tokenization_tapas.py:2699: FutureWarning: Series.__getitem__ treating keys as positions is deprecated. In a future version, integer keys will always be treated as labels (consistent with DataFrame behavior). To access a value by position, use `ser.iloc[pos]`\n",
      "  text = normalize_for_match(row[col_index].text)\n",
      "c:\\Python312\\Lib\\site-packages\\transformers\\models\\tapas\\tokenization_tapas.py:1493: FutureWarning: Series.__getitem__ treating keys as positions is deprecated. In a future version, integer keys will always be treated as labels (consistent with DataFrame behavior). To access a value by position, use `ser.iloc[pos]`\n",
      "  cell = row[col_index]\n"
     ]
    }
   ],
   "source": [
    "# Define your question\n",
    "queries = [\"What was the sales in 2019?\", \"What is the total sales?\"]\n",
    "\n",
    "# Tokenize inputs\n",
    "inputs = tokenizer(table=table, queries=queries, padding=\"max_length\", return_tensors=\"pt\")\n",
    "\n",
    "# Pass the inputs through the model\n",
    "outputs = model(**inputs)\n",
    "\n",
    "# Get the predicted answer\n",
    "logits = outputs.logits.detach().cpu().numpy()\n",
    "\n",
    "# To interpret the logits, you can refer to the Hugging Face TAPAS documentation or use the tokenized outputs"
   ]
  },
  {
   "cell_type": "code",
   "execution_count": 13,
   "metadata": {},
   "outputs": [
    {
     "name": "stdout",
     "output_type": "stream",
     "text": [
      "Answer (specific cells): ['1500']\n",
      "Answer (specific cells): ['1000', '1500', '2000', '2500']\n"
     ]
    }
   ],
   "source": [
    "# Convert logits to answer (example for cell selection)\n",
    "predicted_answer_coordinates = tokenizer.convert_logits_to_predictions(\n",
    "    inputs, outputs.logits.detach()\n",
    ")\n",
    "\n",
    "# Print out the selected cells\n",
    "for answer_set in predicted_answer_coordinates:\n",
    "    # Check if answer_set is a list of lists\n",
    "    if isinstance(answer_set, list) and all(isinstance(inner_list, list) for inner_list in answer_set):\n",
    "        for coordinates in answer_set:  # Iterate over the inner lists\n",
    "            # Check if each coordinates list contains tuples\n",
    "            if all(isinstance(coord, tuple) for coord in coordinates):\n",
    "                # Handle the inner list of (row, column) tuples\n",
    "                cells = [table.iat[row, column] for row, column in coordinates]\n",
    "                print(\"Answer (specific cells):\", cells)\n",
    "            else:\n",
    "                print(\"Unexpected format for coordinates in answer set:\", coordinates)\n",
    "    else:\n",
    "        print(\"Unexpected format for answer set:\", answer_set)\n"
   ]
  },
  {
   "cell_type": "code",
   "execution_count": null,
   "metadata": {},
   "outputs": [],
   "source": []
  },
  {
   "cell_type": "code",
   "execution_count": null,
   "metadata": {},
   "outputs": [],
   "source": []
  }
 ],
 "metadata": {
  "kernelspec": {
   "display_name": "Python 3",
   "language": "python",
   "name": "python3"
  },
  "language_info": {
   "codemirror_mode": {
    "name": "ipython",
    "version": 3
   },
   "file_extension": ".py",
   "mimetype": "text/x-python",
   "name": "python",
   "nbconvert_exporter": "python",
   "pygments_lexer": "ipython3",
   "version": "3.12.1"
  }
 },
 "nbformat": 4,
 "nbformat_minor": 2
}
