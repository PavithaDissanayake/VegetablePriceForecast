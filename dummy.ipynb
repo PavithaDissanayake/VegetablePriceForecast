{
 "cells": [
  {
   "cell_type": "code",
   "execution_count": 1,
   "metadata": {},
   "outputs": [
    {
     "name": "stdout",
     "output_type": "stream",
     "text": [
      "DataFrames have been saved with sorted columns.\n"
     ]
    }
   ],
   "source": [
    "import pandas as pd\n",
    "\n",
    "# List of DataFrame names\n",
    "dataframe_names = ['Beans', 'Carrot', 'Leaks', 'BeetRoot', 'Knolkhol', 'Raddish', 'Cabbage', 'Tomato', 'LadiesFingers', 'Brinjals', 'Capsicum', 'Pumpkin', 'Cucumber', 'Lime', 'Manioc']\n",
    "\n",
    "# Folder containing the CSV files\n",
    "folder_path = './Data/'\n",
    "\n",
    "# Load DataFrames\n",
    "dataframes = {}\n",
    "for name in dataframe_names:\n",
    "    file_path = f\"{folder_path}{name}.csv\"\n",
    "    dataframes[name] = pd.read_csv(file_path)\n",
    "\n",
    "# Sort columns alphabetically for each DataFrame with 'Date' at the front\n",
    "for name, df in dataframes.items():\n",
    "    # Ensure 'Date' is at the front and other columns are sorted alphabetically\n",
    "    cols = ['Date'] + sorted([col for col in df.columns if col != 'Date'])\n",
    "    df = df[cols]\n",
    "    dataframes[name] = df\n",
    "\n",
    "# Save sorted DataFrames to CSV\n",
    "for name, df in dataframes.items():\n",
    "    file_path = f\"{folder_path}{name}.csv\"\n",
    "    df.to_csv(file_path, index=False)  # Save DataFrame to CSV without the index\n",
    "\n",
    "print(\"DataFrames have been saved with sorted columns.\")\n"
   ]
  },
  {
   "cell_type": "code",
   "execution_count": 3,
   "metadata": {},
   "outputs": [
    {
     "name": "stdout",
     "output_type": "stream",
     "text": [
      "Updated file: ./Data/Leaks.csv\n",
      "Updated file: ./Data/BeetRoot.csv\n",
      "Updated file: ./Data/Knolkhol.csv\n",
      "Updated file: ./Data/Raddish.csv\n",
      "Updated file: ./Data/Cabbage.csv\n",
      "Updated file: ./Data/Tomato.csv\n",
      "Updated file: ./Data/LadiesFingers.csv\n",
      "Updated file: ./Data/Brinjals.csv\n",
      "Updated file: ./Data/Capsicum.csv\n",
      "Updated file: ./Data/Pumpkin.csv\n",
      "Updated file: ./Data/Cucumber.csv\n",
      "Updated file: ./Data/Lime.csv\n",
      "Updated file: ./Data/Manioc.csv\n"
     ]
    }
   ],
   "source": [
    "import pandas as pd\n",
    "import numpy as np\n",
    "import os\n",
    "\n",
    "def process_csv_files(file_list, column_name='Date'):\n",
    "    # Define the date range to insert\n",
    "    date_range = pd.date_range(start='2020-01-01', end='2023-12-29')\n",
    "\n",
    "    for file_name in file_list:\n",
    "        if not os.path.isfile(file_name):\n",
    "            print(f\"File not found: {file_name}\")\n",
    "            continue\n",
    "\n",
    "        # Load the CSV file\n",
    "        df = pd.read_csv(file_name)\n",
    "\n",
    "        # Check if the specified column is empty\n",
    "        if df[column_name].isnull().all() or df[column_name].eq('').all():\n",
    "            # Create a new DataFrame with the date range\n",
    "            df = pd.DataFrame({column_name: date_range})\n",
    "\n",
    "            # Optionally, if you have other columns that need to be retained, add them here\n",
    "            # e.g., df['OtherColumn'] = np.nan\n",
    "\n",
    "            # Save the modified DataFrame back to CSV\n",
    "            df.to_csv(file_name, index=False)\n",
    "            print(f\"Updated file: {file_name}\")\n",
    "        else:\n",
    "            print(f\"File {file_name} already has data in column {column_name}\")\n",
    "\n",
    "# List of CSV file names to process\n",
    "file_list = ['./Data/Leaks.csv', './Data/BeetRoot.csv', './Data/Knolkhol.csv', './Data/Raddish.csv', './Data/Cabbage.csv', './Data/Tomato.csv', './Data/LadiesFingers.csv', './Data/Brinjals.csv', './Data/Capsicum.csv', './Data/Pumpkin.csv', './Data/Cucumber.csv', './Data/Lime.csv', './Data/Manioc.csv']\n",
    "\n",
    "# Process the files\n",
    "process_csv_files(file_list)"
   ]
  },
  {
   "cell_type": "code",
   "execution_count": 4,
   "metadata": {},
   "outputs": [
    {
     "name": "stdout",
     "output_type": "stream",
     "text": [
      "Tables created and saved successfully.\n"
     ]
    }
   ],
   "source": [
    "import pandas as pd\n",
    "import numpy as np\n",
    "\n",
    "# Load existing data\n",
    "beans_df = pd.read_csv('./Data/Beans.csv')\n",
    "carrot_df = pd.read_csv('./Data/Carrot.csv')\n",
    "\n",
    "# Combine the Beans and Carrot dataframes for inspiration\n",
    "combined_df = pd.concat([beans_df, carrot_df], axis=1)\n",
    "\n",
    "# Extract relevant columns for inspiration\n",
    "value_columns = ['Kandy', 'Dambulla']  # Update this list if you have more relevant columns\n",
    "combined_values = combined_df[value_columns].values.flatten()\n",
    "combined_values = combined_values[~np.isnan(combined_values)]  # Remove NaNs\n",
    "\n",
    "# Define new vegetable names\n",
    "vegetables = ['Leaks', 'BeetRoot', 'Knolkhol', 'Raddish', 'Cabbage', 'Tomato', 'LadiesFingers', 'Brinjals', 'Capsicum', 'Pumpkin', 'Cucumber', 'Lime', 'Manioc']\n",
    "\n",
    "# Create and save tables with dummy values\n",
    "for vegetable in vegetables:\n",
    "    # Create a DataFrame with the same structure as Beans.csv and Carrot.csv\n",
    "    new_df = pd.DataFrame(columns=beans_df.columns)\n",
    "    \n",
    "    # Fill with dummy values\n",
    "    for column in new_df.columns:\n",
    "        if column != 'Date':\n",
    "            new_df[column] = np.random.choice(combined_values, size=len(beans_df))\n",
    "    \n",
    "    # Save to CSV\n",
    "    new_df.to_csv(f'./Data/{vegetable}.csv', index=False)\n",
    "\n",
    "print(\"Tables created and saved successfully.\")\n"
   ]
  },
  {
   "cell_type": "code",
   "execution_count": 5,
   "metadata": {},
   "outputs": [
    {
     "name": "stdout",
     "output_type": "stream",
     "text": [
      "Dates added to all files successfully!\n"
     ]
    }
   ],
   "source": [
    "import pandas as pd\n",
    "import os\n",
    "\n",
    "# List of CSV file names\n",
    "csv_files = vegetables = ['./Data/Leaks.csv', './Data/BeetRoot.csv', './Data/Knolkhol.csv', './Data/Raddish.csv', './Data/Cabbage.csv', './Data/Tomato.csv', './Data/LadiesFingers.csv', './Data/Brinjals.csv', './Data/Capsicum.csv', './Data/Pumpkin.csv', './Data/Cucumber.csv', './Data/Lime.csv', './Data/Manioc.csv']\n",
    "  # Replace with your actual file names\n",
    "\n",
    "# Function to add dates starting from 2020-01-01\n",
    "def add_dates_to_csv(file_path):\n",
    "    # Read the CSV file\n",
    "    df = pd.read_csv(file_path)\n",
    "    \n",
    "    # Generate a date range starting from 2020-01-01\n",
    "    num_rows = len(df)\n",
    "    date_range = pd.date_range(start=\"2020-01-01\", periods=num_rows, freq='D')\n",
    "    \n",
    "    # Assign the date range to the 'Date' column\n",
    "    df['Date'] = date_range\n",
    "    \n",
    "    # Save the updated CSV\n",
    "    df.to_csv(file_path, index=False)\n",
    "\n",
    "# Process each CSV file in the list\n",
    "for csv_file in csv_files:\n",
    "    add_dates_to_csv(csv_file)\n",
    "\n",
    "print(\"Dates added to all files successfully!\")\n"
   ]
  },
  {
   "cell_type": "code",
   "execution_count": null,
   "metadata": {},
   "outputs": [],
   "source": []
  }
 ],
 "metadata": {
  "kernelspec": {
   "display_name": "Python 3",
   "language": "python",
   "name": "python3"
  },
  "language_info": {
   "codemirror_mode": {
    "name": "ipython",
    "version": 3
   },
   "file_extension": ".py",
   "mimetype": "text/x-python",
   "name": "python",
   "nbconvert_exporter": "python",
   "pygments_lexer": "ipython3",
   "version": "3.12.1"
  }
 },
 "nbformat": 4,
 "nbformat_minor": 2
}
