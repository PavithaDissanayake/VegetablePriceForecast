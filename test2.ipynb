{
 "cells": [
  {
   "cell_type": "code",
   "execution_count": 11,
   "metadata": {},
   "outputs": [
    {
     "name": "stdout",
     "output_type": "stream",
     "text": [
      "1\n"
     ]
    },
    {
     "name": "stderr",
     "output_type": "stream",
     "text": [
      "c:\\Python312\\Lib\\site-packages\\keras\\src\\layers\\rnn\\rnn.py:204: UserWarning: Do not pass an `input_shape`/`input_dim` argument to a layer. When using Sequential models, prefer using an `Input(shape)` object as the first layer in the model instead.\n",
      "  super().__init__(**kwargs)\n"
     ]
    },
    {
     "name": "stdout",
     "output_type": "stream",
     "text": [
      "\u001b[1m7/7\u001b[0m \u001b[32m━━━━━━━━━━━━━━━━━━━━\u001b[0m\u001b[37m\u001b[0m \u001b[1m1s\u001b[0m 60ms/step\n",
      "Lag: 0, MAPE: 11.36%\n",
      "1\n"
     ]
    },
    {
     "name": "stderr",
     "output_type": "stream",
     "text": [
      "c:\\Python312\\Lib\\site-packages\\keras\\src\\layers\\rnn\\rnn.py:204: UserWarning: Do not pass an `input_shape`/`input_dim` argument to a layer. When using Sequential models, prefer using an `Input(shape)` object as the first layer in the model instead.\n",
      "  super().__init__(**kwargs)\n"
     ]
    },
    {
     "name": "stdout",
     "output_type": "stream",
     "text": [
      "\u001b[1m6/6\u001b[0m \u001b[32m━━━━━━━━━━━━━━━━━━━━\u001b[0m\u001b[37m\u001b[0m \u001b[1m0s\u001b[0m 14ms/step\n",
      "Lag: 7, MAPE: 11.65%\n",
      "1\n"
     ]
    },
    {
     "name": "stderr",
     "output_type": "stream",
     "text": [
      "c:\\Python312\\Lib\\site-packages\\keras\\src\\layers\\rnn\\rnn.py:204: UserWarning: Do not pass an `input_shape`/`input_dim` argument to a layer. When using Sequential models, prefer using an `Input(shape)` object as the first layer in the model instead.\n",
      "  super().__init__(**kwargs)\n"
     ]
    },
    {
     "name": "stdout",
     "output_type": "stream",
     "text": [
      "\u001b[1m6/6\u001b[0m \u001b[32m━━━━━━━━━━━━━━━━━━━━\u001b[0m\u001b[37m\u001b[0m \u001b[1m1s\u001b[0m 59ms/step\n",
      "Lag: 14, MAPE: 11.82%\n",
      "1\n"
     ]
    },
    {
     "name": "stderr",
     "output_type": "stream",
     "text": [
      "c:\\Python312\\Lib\\site-packages\\keras\\src\\layers\\rnn\\rnn.py:204: UserWarning: Do not pass an `input_shape`/`input_dim` argument to a layer. When using Sequential models, prefer using an `Input(shape)` object as the first layer in the model instead.\n",
      "  super().__init__(**kwargs)\n"
     ]
    },
    {
     "name": "stdout",
     "output_type": "stream",
     "text": [
      "\u001b[1m6/6\u001b[0m \u001b[32m━━━━━━━━━━━━━━━━━━━━\u001b[0m\u001b[37m\u001b[0m \u001b[1m1s\u001b[0m 59ms/step\n",
      "Lag: 21, MAPE: 11.54%\n",
      "1\n"
     ]
    },
    {
     "name": "stderr",
     "output_type": "stream",
     "text": [
      "c:\\Python312\\Lib\\site-packages\\keras\\src\\layers\\rnn\\rnn.py:204: UserWarning: Do not pass an `input_shape`/`input_dim` argument to a layer. When using Sequential models, prefer using an `Input(shape)` object as the first layer in the model instead.\n",
      "  super().__init__(**kwargs)\n"
     ]
    },
    {
     "name": "stdout",
     "output_type": "stream",
     "text": [
      "\u001b[1m6/6\u001b[0m \u001b[32m━━━━━━━━━━━━━━━━━━━━\u001b[0m\u001b[37m\u001b[0m \u001b[1m1s\u001b[0m 81ms/step\n",
      "Lag: 28, MAPE: 13.45%\n",
      "1\n"
     ]
    },
    {
     "name": "stderr",
     "output_type": "stream",
     "text": [
      "c:\\Python312\\Lib\\site-packages\\keras\\src\\layers\\rnn\\rnn.py:204: UserWarning: Do not pass an `input_shape`/`input_dim` argument to a layer. When using Sequential models, prefer using an `Input(shape)` object as the first layer in the model instead.\n",
      "  super().__init__(**kwargs)\n"
     ]
    },
    {
     "name": "stdout",
     "output_type": "stream",
     "text": [
      "\u001b[1m6/6\u001b[0m \u001b[32m━━━━━━━━━━━━━━━━━━━━\u001b[0m\u001b[37m\u001b[0m \u001b[1m1s\u001b[0m 97ms/step\n",
      "Lag: 35, MAPE: 14.84%\n",
      "1\n"
     ]
    },
    {
     "name": "stderr",
     "output_type": "stream",
     "text": [
      "c:\\Python312\\Lib\\site-packages\\keras\\src\\layers\\rnn\\rnn.py:204: UserWarning: Do not pass an `input_shape`/`input_dim` argument to a layer. When using Sequential models, prefer using an `Input(shape)` object as the first layer in the model instead.\n",
      "  super().__init__(**kwargs)\n"
     ]
    },
    {
     "name": "stdout",
     "output_type": "stream",
     "text": [
      "\u001b[1m6/6\u001b[0m \u001b[32m━━━━━━━━━━━━━━━━━━━━\u001b[0m\u001b[37m\u001b[0m \u001b[1m1s\u001b[0m 82ms/step\n",
      "Lag: 42, MAPE: 15.52%\n",
      "1\n"
     ]
    },
    {
     "name": "stderr",
     "output_type": "stream",
     "text": [
      "c:\\Python312\\Lib\\site-packages\\keras\\src\\layers\\rnn\\rnn.py:204: UserWarning: Do not pass an `input_shape`/`input_dim` argument to a layer. When using Sequential models, prefer using an `Input(shape)` object as the first layer in the model instead.\n",
      "  super().__init__(**kwargs)\n"
     ]
    },
    {
     "name": "stdout",
     "output_type": "stream",
     "text": [
      "\u001b[1m6/6\u001b[0m \u001b[32m━━━━━━━━━━━━━━━━━━━━\u001b[0m\u001b[37m\u001b[0m \u001b[1m1s\u001b[0m 134ms/step\n",
      "Lag: 49, MAPE: 14.50%\n",
      "1\n"
     ]
    },
    {
     "name": "stderr",
     "output_type": "stream",
     "text": [
      "c:\\Python312\\Lib\\site-packages\\keras\\src\\layers\\rnn\\rnn.py:204: UserWarning: Do not pass an `input_shape`/`input_dim` argument to a layer. When using Sequential models, prefer using an `Input(shape)` object as the first layer in the model instead.\n",
      "  super().__init__(**kwargs)\n"
     ]
    },
    {
     "name": "stdout",
     "output_type": "stream",
     "text": [
      "\u001b[1m6/6\u001b[0m \u001b[32m━━━━━━━━━━━━━━━━━━━━\u001b[0m\u001b[37m\u001b[0m \u001b[1m1s\u001b[0m 77ms/step\n",
      "Lag: 56, MAPE: 14.95%\n",
      "1\n"
     ]
    },
    {
     "name": "stderr",
     "output_type": "stream",
     "text": [
      "c:\\Python312\\Lib\\site-packages\\keras\\src\\layers\\rnn\\rnn.py:204: UserWarning: Do not pass an `input_shape`/`input_dim` argument to a layer. When using Sequential models, prefer using an `Input(shape)` object as the first layer in the model instead.\n",
      "  super().__init__(**kwargs)\n"
     ]
    },
    {
     "name": "stdout",
     "output_type": "stream",
     "text": [
      "\u001b[1m6/6\u001b[0m \u001b[32m━━━━━━━━━━━━━━━━━━━━\u001b[0m\u001b[37m\u001b[0m \u001b[1m1s\u001b[0m 68ms/step\n",
      "Lag: 63, MAPE: 15.58%\n",
      "1\n"
     ]
    },
    {
     "name": "stderr",
     "output_type": "stream",
     "text": [
      "c:\\Python312\\Lib\\site-packages\\keras\\src\\layers\\rnn\\rnn.py:204: UserWarning: Do not pass an `input_shape`/`input_dim` argument to a layer. When using Sequential models, prefer using an `Input(shape)` object as the first layer in the model instead.\n",
      "  super().__init__(**kwargs)\n"
     ]
    },
    {
     "name": "stdout",
     "output_type": "stream",
     "text": [
      "\u001b[1m6/6\u001b[0m \u001b[32m━━━━━━━━━━━━━━━━━━━━\u001b[0m\u001b[37m\u001b[0m \u001b[1m1s\u001b[0m 64ms/step\n",
      "Lag: 70, MAPE: 14.30%\n",
      "1\n"
     ]
    },
    {
     "name": "stderr",
     "output_type": "stream",
     "text": [
      "c:\\Python312\\Lib\\site-packages\\keras\\src\\layers\\rnn\\rnn.py:204: UserWarning: Do not pass an `input_shape`/`input_dim` argument to a layer. When using Sequential models, prefer using an `Input(shape)` object as the first layer in the model instead.\n",
      "  super().__init__(**kwargs)\n"
     ]
    },
    {
     "name": "stdout",
     "output_type": "stream",
     "text": [
      "\u001b[1m6/6\u001b[0m \u001b[32m━━━━━━━━━━━━━━━━━━━━\u001b[0m\u001b[37m\u001b[0m \u001b[1m1s\u001b[0m 75ms/step\n",
      "Lag: 77, MAPE: 14.77%\n",
      "1\n"
     ]
    },
    {
     "name": "stderr",
     "output_type": "stream",
     "text": [
      "c:\\Python312\\Lib\\site-packages\\keras\\src\\layers\\rnn\\rnn.py:204: UserWarning: Do not pass an `input_shape`/`input_dim` argument to a layer. When using Sequential models, prefer using an `Input(shape)` object as the first layer in the model instead.\n",
      "  super().__init__(**kwargs)\n"
     ]
    },
    {
     "name": "stdout",
     "output_type": "stream",
     "text": [
      "\u001b[1m6/6\u001b[0m \u001b[32m━━━━━━━━━━━━━━━━━━━━\u001b[0m\u001b[37m\u001b[0m \u001b[1m1s\u001b[0m 75ms/step\n",
      "Lag: 84, MAPE: 15.22%\n",
      "1\n"
     ]
    },
    {
     "name": "stderr",
     "output_type": "stream",
     "text": [
      "c:\\Python312\\Lib\\site-packages\\keras\\src\\layers\\rnn\\rnn.py:204: UserWarning: Do not pass an `input_shape`/`input_dim` argument to a layer. When using Sequential models, prefer using an `Input(shape)` object as the first layer in the model instead.\n",
      "  super().__init__(**kwargs)\n"
     ]
    },
    {
     "name": "stdout",
     "output_type": "stream",
     "text": [
      "\u001b[1m6/6\u001b[0m \u001b[32m━━━━━━━━━━━━━━━━━━━━\u001b[0m\u001b[37m\u001b[0m \u001b[1m1s\u001b[0m 61ms/step\n",
      "Lag: 91, MAPE: 20.64%\n",
      "1\n"
     ]
    },
    {
     "name": "stderr",
     "output_type": "stream",
     "text": [
      "c:\\Python312\\Lib\\site-packages\\keras\\src\\layers\\rnn\\rnn.py:204: UserWarning: Do not pass an `input_shape`/`input_dim` argument to a layer. When using Sequential models, prefer using an `Input(shape)` object as the first layer in the model instead.\n",
      "  super().__init__(**kwargs)\n"
     ]
    },
    {
     "name": "stdout",
     "output_type": "stream",
     "text": [
      "\u001b[1m6/6\u001b[0m \u001b[32m━━━━━━━━━━━━━━━━━━━━\u001b[0m\u001b[37m\u001b[0m \u001b[1m1s\u001b[0m 67ms/step\n",
      "Lag: 98, MAPE: 22.93%\n",
      "1\n"
     ]
    },
    {
     "name": "stderr",
     "output_type": "stream",
     "text": [
      "C:\\Users\\Dulitha Hasith\\AppData\\Local\\Temp\\ipykernel_32552\\3433794859.py:18: PerformanceWarning: DataFrame is highly fragmented.  This is usually the result of calling `frame.insert` many times, which has poor performance.  Consider joining all columns at once using pd.concat(axis=1) instead. To get a de-fragmented frame, use `newframe = frame.copy()`\n",
      "  df[f'rain_sum_lag_{lag}'] = df['rain_sum'].shift(lag)\n",
      "C:\\Users\\Dulitha Hasith\\AppData\\Local\\Temp\\ipykernel_32552\\3433794859.py:18: PerformanceWarning: DataFrame is highly fragmented.  This is usually the result of calling `frame.insert` many times, which has poor performance.  Consider joining all columns at once using pd.concat(axis=1) instead. To get a de-fragmented frame, use `newframe = frame.copy()`\n",
      "  df[f'rain_sum_lag_{lag}'] = df['rain_sum'].shift(lag)\n",
      "C:\\Users\\Dulitha Hasith\\AppData\\Local\\Temp\\ipykernel_32552\\3433794859.py:18: PerformanceWarning: DataFrame is highly fragmented.  This is usually the result of calling `frame.insert` many times, which has poor performance.  Consider joining all columns at once using pd.concat(axis=1) instead. To get a de-fragmented frame, use `newframe = frame.copy()`\n",
      "  df[f'rain_sum_lag_{lag}'] = df['rain_sum'].shift(lag)\n",
      "C:\\Users\\Dulitha Hasith\\AppData\\Local\\Temp\\ipykernel_32552\\3433794859.py:18: PerformanceWarning: DataFrame is highly fragmented.  This is usually the result of calling `frame.insert` many times, which has poor performance.  Consider joining all columns at once using pd.concat(axis=1) instead. To get a de-fragmented frame, use `newframe = frame.copy()`\n",
      "  df[f'rain_sum_lag_{lag}'] = df['rain_sum'].shift(lag)\n",
      "C:\\Users\\Dulitha Hasith\\AppData\\Local\\Temp\\ipykernel_32552\\3433794859.py:18: PerformanceWarning: DataFrame is highly fragmented.  This is usually the result of calling `frame.insert` many times, which has poor performance.  Consider joining all columns at once using pd.concat(axis=1) instead. To get a de-fragmented frame, use `newframe = frame.copy()`\n",
      "  df[f'rain_sum_lag_{lag}'] = df['rain_sum'].shift(lag)\n",
      "C:\\Users\\Dulitha Hasith\\AppData\\Local\\Temp\\ipykernel_32552\\3433794859.py:18: PerformanceWarning: DataFrame is highly fragmented.  This is usually the result of calling `frame.insert` many times, which has poor performance.  Consider joining all columns at once using pd.concat(axis=1) instead. To get a de-fragmented frame, use `newframe = frame.copy()`\n",
      "  df[f'rain_sum_lag_{lag}'] = df['rain_sum'].shift(lag)\n",
      "c:\\Python312\\Lib\\site-packages\\keras\\src\\layers\\rnn\\rnn.py:204: UserWarning: Do not pass an `input_shape`/`input_dim` argument to a layer. When using Sequential models, prefer using an `Input(shape)` object as the first layer in the model instead.\n",
      "  super().__init__(**kwargs)\n"
     ]
    },
    {
     "name": "stdout",
     "output_type": "stream",
     "text": [
      "\u001b[1m6/6\u001b[0m \u001b[32m━━━━━━━━━━━━━━━━━━━━\u001b[0m\u001b[37m\u001b[0m \u001b[1m1s\u001b[0m 69ms/step\n",
      "Lag: 105, MAPE: 17.08%\n",
      "1\n"
     ]
    },
    {
     "name": "stderr",
     "output_type": "stream",
     "text": [
      "C:\\Users\\Dulitha Hasith\\AppData\\Local\\Temp\\ipykernel_32552\\3433794859.py:18: PerformanceWarning: DataFrame is highly fragmented.  This is usually the result of calling `frame.insert` many times, which has poor performance.  Consider joining all columns at once using pd.concat(axis=1) instead. To get a de-fragmented frame, use `newframe = frame.copy()`\n",
      "  df[f'rain_sum_lag_{lag}'] = df['rain_sum'].shift(lag)\n",
      "C:\\Users\\Dulitha Hasith\\AppData\\Local\\Temp\\ipykernel_32552\\3433794859.py:18: PerformanceWarning: DataFrame is highly fragmented.  This is usually the result of calling `frame.insert` many times, which has poor performance.  Consider joining all columns at once using pd.concat(axis=1) instead. To get a de-fragmented frame, use `newframe = frame.copy()`\n",
      "  df[f'rain_sum_lag_{lag}'] = df['rain_sum'].shift(lag)\n",
      "C:\\Users\\Dulitha Hasith\\AppData\\Local\\Temp\\ipykernel_32552\\3433794859.py:18: PerformanceWarning: DataFrame is highly fragmented.  This is usually the result of calling `frame.insert` many times, which has poor performance.  Consider joining all columns at once using pd.concat(axis=1) instead. To get a de-fragmented frame, use `newframe = frame.copy()`\n",
      "  df[f'rain_sum_lag_{lag}'] = df['rain_sum'].shift(lag)\n",
      "C:\\Users\\Dulitha Hasith\\AppData\\Local\\Temp\\ipykernel_32552\\3433794859.py:18: PerformanceWarning: DataFrame is highly fragmented.  This is usually the result of calling `frame.insert` many times, which has poor performance.  Consider joining all columns at once using pd.concat(axis=1) instead. To get a de-fragmented frame, use `newframe = frame.copy()`\n",
      "  df[f'rain_sum_lag_{lag}'] = df['rain_sum'].shift(lag)\n",
      "C:\\Users\\Dulitha Hasith\\AppData\\Local\\Temp\\ipykernel_32552\\3433794859.py:18: PerformanceWarning: DataFrame is highly fragmented.  This is usually the result of calling `frame.insert` many times, which has poor performance.  Consider joining all columns at once using pd.concat(axis=1) instead. To get a de-fragmented frame, use `newframe = frame.copy()`\n",
      "  df[f'rain_sum_lag_{lag}'] = df['rain_sum'].shift(lag)\n",
      "C:\\Users\\Dulitha Hasith\\AppData\\Local\\Temp\\ipykernel_32552\\3433794859.py:18: PerformanceWarning: DataFrame is highly fragmented.  This is usually the result of calling `frame.insert` many times, which has poor performance.  Consider joining all columns at once using pd.concat(axis=1) instead. To get a de-fragmented frame, use `newframe = frame.copy()`\n",
      "  df[f'rain_sum_lag_{lag}'] = df['rain_sum'].shift(lag)\n",
      "C:\\Users\\Dulitha Hasith\\AppData\\Local\\Temp\\ipykernel_32552\\3433794859.py:18: PerformanceWarning: DataFrame is highly fragmented.  This is usually the result of calling `frame.insert` many times, which has poor performance.  Consider joining all columns at once using pd.concat(axis=1) instead. To get a de-fragmented frame, use `newframe = frame.copy()`\n",
      "  df[f'rain_sum_lag_{lag}'] = df['rain_sum'].shift(lag)\n",
      "C:\\Users\\Dulitha Hasith\\AppData\\Local\\Temp\\ipykernel_32552\\3433794859.py:18: PerformanceWarning: DataFrame is highly fragmented.  This is usually the result of calling `frame.insert` many times, which has poor performance.  Consider joining all columns at once using pd.concat(axis=1) instead. To get a de-fragmented frame, use `newframe = frame.copy()`\n",
      "  df[f'rain_sum_lag_{lag}'] = df['rain_sum'].shift(lag)\n",
      "C:\\Users\\Dulitha Hasith\\AppData\\Local\\Temp\\ipykernel_32552\\3433794859.py:18: PerformanceWarning: DataFrame is highly fragmented.  This is usually the result of calling `frame.insert` many times, which has poor performance.  Consider joining all columns at once using pd.concat(axis=1) instead. To get a de-fragmented frame, use `newframe = frame.copy()`\n",
      "  df[f'rain_sum_lag_{lag}'] = df['rain_sum'].shift(lag)\n",
      "C:\\Users\\Dulitha Hasith\\AppData\\Local\\Temp\\ipykernel_32552\\3433794859.py:18: PerformanceWarning: DataFrame is highly fragmented.  This is usually the result of calling `frame.insert` many times, which has poor performance.  Consider joining all columns at once using pd.concat(axis=1) instead. To get a de-fragmented frame, use `newframe = frame.copy()`\n",
      "  df[f'rain_sum_lag_{lag}'] = df['rain_sum'].shift(lag)\n",
      "C:\\Users\\Dulitha Hasith\\AppData\\Local\\Temp\\ipykernel_32552\\3433794859.py:18: PerformanceWarning: DataFrame is highly fragmented.  This is usually the result of calling `frame.insert` many times, which has poor performance.  Consider joining all columns at once using pd.concat(axis=1) instead. To get a de-fragmented frame, use `newframe = frame.copy()`\n",
      "  df[f'rain_sum_lag_{lag}'] = df['rain_sum'].shift(lag)\n",
      "C:\\Users\\Dulitha Hasith\\AppData\\Local\\Temp\\ipykernel_32552\\3433794859.py:18: PerformanceWarning: DataFrame is highly fragmented.  This is usually the result of calling `frame.insert` many times, which has poor performance.  Consider joining all columns at once using pd.concat(axis=1) instead. To get a de-fragmented frame, use `newframe = frame.copy()`\n",
      "  df[f'rain_sum_lag_{lag}'] = df['rain_sum'].shift(lag)\n",
      "C:\\Users\\Dulitha Hasith\\AppData\\Local\\Temp\\ipykernel_32552\\3433794859.py:18: PerformanceWarning: DataFrame is highly fragmented.  This is usually the result of calling `frame.insert` many times, which has poor performance.  Consider joining all columns at once using pd.concat(axis=1) instead. To get a de-fragmented frame, use `newframe = frame.copy()`\n",
      "  df[f'rain_sum_lag_{lag}'] = df['rain_sum'].shift(lag)\n",
      "c:\\Python312\\Lib\\site-packages\\keras\\src\\layers\\rnn\\rnn.py:204: UserWarning: Do not pass an `input_shape`/`input_dim` argument to a layer. When using Sequential models, prefer using an `Input(shape)` object as the first layer in the model instead.\n",
      "  super().__init__(**kwargs)\n"
     ]
    },
    {
     "name": "stdout",
     "output_type": "stream",
     "text": [
      "\u001b[1m6/6\u001b[0m \u001b[32m━━━━━━━━━━━━━━━━━━━━\u001b[0m\u001b[37m\u001b[0m \u001b[1m1s\u001b[0m 62ms/step\n",
      "Lag: 112, MAPE: 18.22%\n",
      "1\n"
     ]
    },
    {
     "name": "stderr",
     "output_type": "stream",
     "text": [
      "C:\\Users\\Dulitha Hasith\\AppData\\Local\\Temp\\ipykernel_32552\\3433794859.py:18: PerformanceWarning: DataFrame is highly fragmented.  This is usually the result of calling `frame.insert` many times, which has poor performance.  Consider joining all columns at once using pd.concat(axis=1) instead. To get a de-fragmented frame, use `newframe = frame.copy()`\n",
      "  df[f'rain_sum_lag_{lag}'] = df['rain_sum'].shift(lag)\n",
      "C:\\Users\\Dulitha Hasith\\AppData\\Local\\Temp\\ipykernel_32552\\3433794859.py:18: PerformanceWarning: DataFrame is highly fragmented.  This is usually the result of calling `frame.insert` many times, which has poor performance.  Consider joining all columns at once using pd.concat(axis=1) instead. To get a de-fragmented frame, use `newframe = frame.copy()`\n",
      "  df[f'rain_sum_lag_{lag}'] = df['rain_sum'].shift(lag)\n",
      "C:\\Users\\Dulitha Hasith\\AppData\\Local\\Temp\\ipykernel_32552\\3433794859.py:18: PerformanceWarning: DataFrame is highly fragmented.  This is usually the result of calling `frame.insert` many times, which has poor performance.  Consider joining all columns at once using pd.concat(axis=1) instead. To get a de-fragmented frame, use `newframe = frame.copy()`\n",
      "  df[f'rain_sum_lag_{lag}'] = df['rain_sum'].shift(lag)\n",
      "C:\\Users\\Dulitha Hasith\\AppData\\Local\\Temp\\ipykernel_32552\\3433794859.py:18: PerformanceWarning: DataFrame is highly fragmented.  This is usually the result of calling `frame.insert` many times, which has poor performance.  Consider joining all columns at once using pd.concat(axis=1) instead. To get a de-fragmented frame, use `newframe = frame.copy()`\n",
      "  df[f'rain_sum_lag_{lag}'] = df['rain_sum'].shift(lag)\n",
      "C:\\Users\\Dulitha Hasith\\AppData\\Local\\Temp\\ipykernel_32552\\3433794859.py:18: PerformanceWarning: DataFrame is highly fragmented.  This is usually the result of calling `frame.insert` many times, which has poor performance.  Consider joining all columns at once using pd.concat(axis=1) instead. To get a de-fragmented frame, use `newframe = frame.copy()`\n",
      "  df[f'rain_sum_lag_{lag}'] = df['rain_sum'].shift(lag)\n",
      "C:\\Users\\Dulitha Hasith\\AppData\\Local\\Temp\\ipykernel_32552\\3433794859.py:18: PerformanceWarning: DataFrame is highly fragmented.  This is usually the result of calling `frame.insert` many times, which has poor performance.  Consider joining all columns at once using pd.concat(axis=1) instead. To get a de-fragmented frame, use `newframe = frame.copy()`\n",
      "  df[f'rain_sum_lag_{lag}'] = df['rain_sum'].shift(lag)\n",
      "C:\\Users\\Dulitha Hasith\\AppData\\Local\\Temp\\ipykernel_32552\\3433794859.py:18: PerformanceWarning: DataFrame is highly fragmented.  This is usually the result of calling `frame.insert` many times, which has poor performance.  Consider joining all columns at once using pd.concat(axis=1) instead. To get a de-fragmented frame, use `newframe = frame.copy()`\n",
      "  df[f'rain_sum_lag_{lag}'] = df['rain_sum'].shift(lag)\n",
      "C:\\Users\\Dulitha Hasith\\AppData\\Local\\Temp\\ipykernel_32552\\3433794859.py:18: PerformanceWarning: DataFrame is highly fragmented.  This is usually the result of calling `frame.insert` many times, which has poor performance.  Consider joining all columns at once using pd.concat(axis=1) instead. To get a de-fragmented frame, use `newframe = frame.copy()`\n",
      "  df[f'rain_sum_lag_{lag}'] = df['rain_sum'].shift(lag)\n",
      "C:\\Users\\Dulitha Hasith\\AppData\\Local\\Temp\\ipykernel_32552\\3433794859.py:18: PerformanceWarning: DataFrame is highly fragmented.  This is usually the result of calling `frame.insert` many times, which has poor performance.  Consider joining all columns at once using pd.concat(axis=1) instead. To get a de-fragmented frame, use `newframe = frame.copy()`\n",
      "  df[f'rain_sum_lag_{lag}'] = df['rain_sum'].shift(lag)\n",
      "C:\\Users\\Dulitha Hasith\\AppData\\Local\\Temp\\ipykernel_32552\\3433794859.py:18: PerformanceWarning: DataFrame is highly fragmented.  This is usually the result of calling `frame.insert` many times, which has poor performance.  Consider joining all columns at once using pd.concat(axis=1) instead. To get a de-fragmented frame, use `newframe = frame.copy()`\n",
      "  df[f'rain_sum_lag_{lag}'] = df['rain_sum'].shift(lag)\n",
      "C:\\Users\\Dulitha Hasith\\AppData\\Local\\Temp\\ipykernel_32552\\3433794859.py:18: PerformanceWarning: DataFrame is highly fragmented.  This is usually the result of calling `frame.insert` many times, which has poor performance.  Consider joining all columns at once using pd.concat(axis=1) instead. To get a de-fragmented frame, use `newframe = frame.copy()`\n",
      "  df[f'rain_sum_lag_{lag}'] = df['rain_sum'].shift(lag)\n",
      "C:\\Users\\Dulitha Hasith\\AppData\\Local\\Temp\\ipykernel_32552\\3433794859.py:18: PerformanceWarning: DataFrame is highly fragmented.  This is usually the result of calling `frame.insert` many times, which has poor performance.  Consider joining all columns at once using pd.concat(axis=1) instead. To get a de-fragmented frame, use `newframe = frame.copy()`\n",
      "  df[f'rain_sum_lag_{lag}'] = df['rain_sum'].shift(lag)\n",
      "C:\\Users\\Dulitha Hasith\\AppData\\Local\\Temp\\ipykernel_32552\\3433794859.py:18: PerformanceWarning: DataFrame is highly fragmented.  This is usually the result of calling `frame.insert` many times, which has poor performance.  Consider joining all columns at once using pd.concat(axis=1) instead. To get a de-fragmented frame, use `newframe = frame.copy()`\n",
      "  df[f'rain_sum_lag_{lag}'] = df['rain_sum'].shift(lag)\n",
      "C:\\Users\\Dulitha Hasith\\AppData\\Local\\Temp\\ipykernel_32552\\3433794859.py:18: PerformanceWarning: DataFrame is highly fragmented.  This is usually the result of calling `frame.insert` many times, which has poor performance.  Consider joining all columns at once using pd.concat(axis=1) instead. To get a de-fragmented frame, use `newframe = frame.copy()`\n",
      "  df[f'rain_sum_lag_{lag}'] = df['rain_sum'].shift(lag)\n",
      "C:\\Users\\Dulitha Hasith\\AppData\\Local\\Temp\\ipykernel_32552\\3433794859.py:18: PerformanceWarning: DataFrame is highly fragmented.  This is usually the result of calling `frame.insert` many times, which has poor performance.  Consider joining all columns at once using pd.concat(axis=1) instead. To get a de-fragmented frame, use `newframe = frame.copy()`\n",
      "  df[f'rain_sum_lag_{lag}'] = df['rain_sum'].shift(lag)\n",
      "C:\\Users\\Dulitha Hasith\\AppData\\Local\\Temp\\ipykernel_32552\\3433794859.py:18: PerformanceWarning: DataFrame is highly fragmented.  This is usually the result of calling `frame.insert` many times, which has poor performance.  Consider joining all columns at once using pd.concat(axis=1) instead. To get a de-fragmented frame, use `newframe = frame.copy()`\n",
      "  df[f'rain_sum_lag_{lag}'] = df['rain_sum'].shift(lag)\n",
      "C:\\Users\\Dulitha Hasith\\AppData\\Local\\Temp\\ipykernel_32552\\3433794859.py:18: PerformanceWarning: DataFrame is highly fragmented.  This is usually the result of calling `frame.insert` many times, which has poor performance.  Consider joining all columns at once using pd.concat(axis=1) instead. To get a de-fragmented frame, use `newframe = frame.copy()`\n",
      "  df[f'rain_sum_lag_{lag}'] = df['rain_sum'].shift(lag)\n",
      "C:\\Users\\Dulitha Hasith\\AppData\\Local\\Temp\\ipykernel_32552\\3433794859.py:18: PerformanceWarning: DataFrame is highly fragmented.  This is usually the result of calling `frame.insert` many times, which has poor performance.  Consider joining all columns at once using pd.concat(axis=1) instead. To get a de-fragmented frame, use `newframe = frame.copy()`\n",
      "  df[f'rain_sum_lag_{lag}'] = df['rain_sum'].shift(lag)\n",
      "C:\\Users\\Dulitha Hasith\\AppData\\Local\\Temp\\ipykernel_32552\\3433794859.py:18: PerformanceWarning: DataFrame is highly fragmented.  This is usually the result of calling `frame.insert` many times, which has poor performance.  Consider joining all columns at once using pd.concat(axis=1) instead. To get a de-fragmented frame, use `newframe = frame.copy()`\n",
      "  df[f'rain_sum_lag_{lag}'] = df['rain_sum'].shift(lag)\n",
      "C:\\Users\\Dulitha Hasith\\AppData\\Local\\Temp\\ipykernel_32552\\3433794859.py:18: PerformanceWarning: DataFrame is highly fragmented.  This is usually the result of calling `frame.insert` many times, which has poor performance.  Consider joining all columns at once using pd.concat(axis=1) instead. To get a de-fragmented frame, use `newframe = frame.copy()`\n",
      "  df[f'rain_sum_lag_{lag}'] = df['rain_sum'].shift(lag)\n",
      "c:\\Python312\\Lib\\site-packages\\keras\\src\\layers\\rnn\\rnn.py:204: UserWarning: Do not pass an `input_shape`/`input_dim` argument to a layer. When using Sequential models, prefer using an `Input(shape)` object as the first layer in the model instead.\n",
      "  super().__init__(**kwargs)\n"
     ]
    },
    {
     "name": "stdout",
     "output_type": "stream",
     "text": [
      "\u001b[1m6/6\u001b[0m \u001b[32m━━━━━━━━━━━━━━━━━━━━\u001b[0m\u001b[37m\u001b[0m \u001b[1m1s\u001b[0m 81ms/step\n",
      "Lag: 119, MAPE: 18.51%\n",
      "\n",
      "Best lag: 0 with MAPE: 11.36%\n"
     ]
    },
    {
     "ename": "",
     "evalue": "",
     "output_type": "error",
     "traceback": [
      "\u001b[1;31mThe Kernel crashed while executing code in the current cell or a previous cell. \n",
      "\u001b[1;31mPlease review the code in the cell(s) to identify a possible cause of the failure. \n",
      "\u001b[1;31mClick <a href='https://aka.ms/vscodeJupyterKernelCrash'>here</a> for more info. \n",
      "\u001b[1;31mView Jupyter <a href='command:jupyter.viewOutput'>log</a> for further details."
     ]
    }
   ],
   "source": [
    "import pandas as pd\n",
    "import numpy as np\n",
    "from sklearn.preprocessing import MinMaxScaler\n",
    "from sklearn.metrics import mean_absolute_percentage_error\n",
    "from tensorflow.keras.models import Sequential\n",
    "from tensorflow.keras.layers import LSTM, Dense\n",
    "\n",
    "# Load data\n",
    "df_a = pd.read_csv('bean-interpolated.csv', parse_dates=['Date'], index_col='Date')\n",
    "df_weather_kandy = pd.read_csv('Weather_Kandy.csv', parse_dates=['Date'], index_col='Date')\n",
    "\n",
    "# Merge the dataframes on the 'Date' column\n",
    "df_merged = df_a.merge(df_weather_kandy, on='Date', how='inner')\n",
    "\n",
    "# Define function to create lagged features\n",
    "def add_lagged_features(df, lag_days):\n",
    "    for lag in range(1, lag_days + 1):\n",
    "        df[f'rain_sum_lag_{lag}'] = df['rain_sum'].shift(lag)\n",
    "    return df\n",
    "\n",
    "# Function to create datasets with a given look-back period\n",
    "def create_dataset(data, look_back=1):\n",
    "    X, y = [], []\n",
    "    for i in range(len(data) - look_back):\n",
    "        X.append(data[i:(i + look_back)])\n",
    "        y.append(data[i + look_back, 0])  # Predicting price column only\n",
    "    return np.array(X), np.array(y)\n",
    "\n",
    "# Function to train model and calculate MAPE for a given lag\n",
    "def train_and_evaluate_model(df, look_back, lag):\n",
    "    # Prepare lagged data\n",
    "    df_lagged = add_lagged_features(df.copy(), lag)\n",
    "    df_lagged.dropna(inplace=True)\n",
    "    \n",
    "    # Separate scalers for full data and price column\n",
    "    scaler_full = MinMaxScaler(feature_range=(0, 1))\n",
    "    scaler_price = MinMaxScaler(feature_range=(0, 1))\n",
    "\n",
    "    # Fit scalers\n",
    "    df_lagged_scaled_full = scaler_full.fit_transform(df_lagged)\n",
    "    df_lagged_scaled_price = scaler_price.fit_transform(df_lagged[['Bean_Kandy_price']])\n",
    "    \n",
    "    # Create training and testing datasets\n",
    "    train_size = int(len(df_lagged_scaled_full) * 0.8)\n",
    "    train, test = df_lagged_scaled_full[:train_size], df_lagged_scaled_full[train_size:]\n",
    "    \n",
    "    # Use look_back for LSTM input\n",
    "    X_train, y_train = create_dataset(train, look_back)\n",
    "    X_test, y_test = create_dataset(test, look_back)\n",
    "    \n",
    "    # Ensure the data has the correct shape (samples, time steps, features)\n",
    "    num_features = df_lagged.shape[1]  # Number of columns in the lagged dataframe\n",
    "    X_train = np.reshape(X_train, (X_train.shape[0], X_train.shape[1], num_features))\n",
    "    X_test = np.reshape(X_test, (X_test.shape[0], X_test.shape[1], num_features))\n",
    "    \n",
    "    # Build the LSTM model\n",
    "    model = Sequential()\n",
    "    model.add(LSTM(units=50, return_sequences=True, input_shape=(look_back, num_features)))\n",
    "    model.add(LSTM(units=50))\n",
    "    model.add(Dense(units=1))\n",
    "    \n",
    "    # Compile the model\n",
    "    model.compile(optimizer='adam', loss='mean_squared_error')\n",
    "    \n",
    "    # Train the model\n",
    "    model.fit(X_train, y_train, epochs=50, batch_size=32, validation_data=(X_test, y_test), verbose=0)\n",
    "    \n",
    "    # Predict using the trained model\n",
    "    test_predictions = model.predict(X_test)\n",
    "    \n",
    "    # Invert predictions using only the price scaler\n",
    "    test_predictions_price = scaler_price.inverse_transform(test_predictions)\n",
    "    y_test_actual_price = scaler_price.inverse_transform(y_test.reshape(-1, 1))\n",
    "    \n",
    "    # Calculate MAPE\n",
    "    y_test_actual_flat = y_test_actual_price.flatten()\n",
    "    test_predictions_flat = test_predictions_price.flatten()\n",
    "    percentage_errors = np.abs((y_test_actual_flat - test_predictions_flat) / y_test_actual_flat) * 100\n",
    "\n",
    "    # Calculate mean percentage error\n",
    "    mape = np.mean(percentage_errors)\n",
    "    \n",
    "\n",
    "    \n",
    "    return mape\n",
    "\n",
    "# Parameters\n",
    "look_back = 60\n",
    "max_lag = 120\n",
    "best_mape = float('inf')\n",
    "best_lag = 0\n",
    "\n",
    "# Iterate over different lag values to find the best MAPE\n",
    "for lag in range(0, max_lag + 1,7):\n",
    "    print(1)\n",
    "    mape = train_and_evaluate_model(df_merged, look_back, lag)\n",
    "    print(f'Lag: {lag}, MAPE: {mape:.2f}%')\n",
    "    if mape < best_mape:\n",
    "        best_mape = mape\n",
    "        best_lag = lag\n",
    "\n",
    "print(f'\\nBest lag: {best_lag} with MAPE: {best_mape:.2f}%')\n"
   ]
  }
 ],
 "metadata": {
  "kernelspec": {
   "display_name": "Python 3",
   "language": "python",
   "name": "python3"
  },
  "language_info": {
   "codemirror_mode": {
    "name": "ipython",
    "version": 3
   },
   "file_extension": ".py",
   "mimetype": "text/x-python",
   "name": "python",
   "nbconvert_exporter": "python",
   "pygments_lexer": "ipython3",
   "version": "3.12.0"
  }
 },
 "nbformat": 4,
 "nbformat_minor": 2
}
