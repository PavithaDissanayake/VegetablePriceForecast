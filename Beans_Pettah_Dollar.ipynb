{
 "cells": [
  {
   "cell_type": "code",
   "execution_count": 2,
   "metadata": {},
   "outputs": [
    {
     "name": "stdout",
     "output_type": "stream",
     "text": [
      "First few rows of a.csv:\n",
      "            price\n",
      "Date             \n",
      "2016-01-02    120\n",
      "2016-01-03    100\n",
      "2016-01-04     50\n",
      "2016-01-06    150\n",
      "2016-01-07    140\n",
      "\n",
      "First few rows of dollar-carrot.csv:\n",
      "             Kandy  Dambulla  Exchange Rate\n",
      "Date                                       \n",
      "2020-01-01  296.43     305.0         181.50\n",
      "2020-01-02  267.86     272.5         181.03\n",
      "2020-01-03  239.29     240.0         181.37\n",
      "2020-01-04  210.71     207.5         181.35\n",
      "2020-01-05  182.14     175.0         181.34\n",
      "\n",
      "First few rows of the merged dataframe:\n",
      "            price   Kandy  Dambulla  Exchange Rate\n",
      "Date                                              \n",
      "2020-01-01    300  296.43     305.0         181.50\n",
      "2020-01-07    100  125.00     110.0         181.45\n",
      "2020-01-10    180  135.00     135.0         181.42\n",
      "2020-01-13    250  425.00     395.0         181.41\n",
      "2020-01-14    250  365.00     355.0         181.30\n",
      "\n",
      "Merged data has been saved to beans-dollar.csv.\n"
     ]
    }
   ],
   "source": [
    "import pandas as pd\n",
    "import numpy as np\n",
    "import matplotlib.pyplot as plt\n",
    "\n",
    "df_a = pd.read_csv('a.csv', parse_dates=['Date'], index_col='Date')\n",
    "\n",
    "# Load the data from dollar-carrot.csv\n",
    "df_dollar_carrot = pd.read_csv('Dollar-Carrot.csv', parse_dates=['Date'], index_col='Date')\n",
    "\n",
    "# Display the first few rows of the dataframes\n",
    "print(\"First few rows of a.csv:\")\n",
    "print(df_a.head())\n",
    "print(\"\\nFirst few rows of dollar-carrot.csv:\")\n",
    "print(df_dollar_carrot.head())\n",
    "\n",
    "# Merge the dataframes on the 'date' column\n",
    "# Assuming 'dollar-carrot.csv' contains columns such as 'dollar_rate_carrot' or similar to avoid naming conflicts\n",
    "df_merged = df_a.merge(df_dollar_carrot, on='Date', how='inner')\n",
    "\n",
    "# Display the first few rows of the merged dataframe\n",
    "print(\"\\nFirst few rows of the merged dataframe:\")\n",
    "print(df_merged.head())\n",
    "\n",
    "# Save the merged dataframe to beans-dollar.csv\n",
    "df_merged.to_csv('beans-dollar.csv')\n",
    "\n",
    "print(\"\\nMerged data has been saved to beans-dollar.csv.\")\n"
   ]
  },
  {
   "cell_type": "code",
   "execution_count": null,
   "metadata": {},
   "outputs": [],
   "source": []
  }
 ],
 "metadata": {
  "kernelspec": {
   "display_name": "Python 3",
   "language": "python",
   "name": "python3"
  },
  "language_info": {
   "codemirror_mode": {
    "name": "ipython",
    "version": 3
   },
   "file_extension": ".py",
   "mimetype": "text/x-python",
   "name": "python",
   "nbconvert_exporter": "python",
   "pygments_lexer": "ipython3",
   "version": "3.12.0"
  }
 },
 "nbformat": 4,
 "nbformat_minor": 2
}
